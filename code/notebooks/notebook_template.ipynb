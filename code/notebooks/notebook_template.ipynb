{
 "cells": [
  {
   "cell_type": "code",
   "execution_count": null,
   "id": "58f8b362-f22c-4c64-bc5c-fe4092a8d493",
   "metadata": {},
   "outputs": [],
   "source": [
    "# Project name"
   ]
  },
  {
   "cell_type": "code",
   "execution_count": null,
   "id": "a117fe5d",
   "metadata": {},
   "outputs": [],
   "source": [
    "## Matthew Riedl\n",
    "### Date"
   ]
  },
  {
   "cell_type": "code",
   "execution_count": null,
   "id": "90d6f673",
   "metadata": {},
   "outputs": [],
   "source": [
    "<br>"
   ]
  },
  {
   "cell_type": "code",
   "execution_count": null,
   "id": "c1122418",
   "metadata": {},
   "outputs": [],
   "source": [
    "Import libraries:"
   ]
  },
  {
   "cell_type": "code",
   "execution_count": null,
   "id": "1fd6dc4e",
   "metadata": {},
   "outputs": [],
   "source": [
    "Import pandas as pd"
   ]
  },
  {
   "cell_type": "code",
   "execution_count": null,
   "id": "027969f0",
   "metadata": {},
   "outputs": [],
   "source": [
    "Load data:"
   ]
  },
  {
   "cell_type": "code",
   "execution_count": null,
   "id": "aa259123",
   "metadata": {},
   "outputs": [],
   "source": [
    "# code to read to csv file"
   ]
  }
 ],
 "metadata": {
  "kernelspec": {
   "display_name": "Python 3 (ipykernel)",
   "language": "python",
   "name": "python3"
  },
  "language_info": {
   "codemirror_mode": {
    "name": "ipython",
    "version": 3
   },
   "file_extension": ".py",
   "mimetype": "text/x-python",
   "name": "python",
   "nbconvert_exporter": "python",
   "pygments_lexer": "ipython3",
   "version": "3.12.4"
  }
 },
 "nbformat": 4,
 "nbformat_minor": 5
}
